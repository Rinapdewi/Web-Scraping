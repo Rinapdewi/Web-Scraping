{
 "cells": [
  {
   "cell_type": "markdown",
   "metadata": {},
   "source": [
    "# Capstone Webscrapping using BeautifulSoup\n",
    "\n",
    "This notebook contains guidances & tasks on the data processing for the application\n",
    "\n",
    "## background\n",
    "\n",
    "(Please insert the background here )\n",
    "\n",
    "## Requesting the Data and Creating a BeautifulSoup\n",
    "\n",
    "Let's begin with requesting the web from the site with `get` method."
   ]
  },
  {
   "cell_type": "code",
   "execution_count": 1,
   "metadata": {
    "ExecuteTime": {
     "end_time": "2020-01-13T05:12:23.275508Z",
     "start_time": "2020-01-13T05:12:20.009898Z"
    }
   },
   "outputs": [],
   "source": [
    "import requests\n",
    "\n",
    "url_get = requests.get('https://www.exchange-rates.org/history/IDR/USD/T')"
   ]
  },
  {
   "cell_type": "markdown",
   "metadata": {},
   "source": [
    "To visualize what exactly you get from the `request.get`, we can use .content so ee what we exactly get, in here i slice it so it won't make our screen full of the html we get from the page. You can delete the slicing if you want to see what we fully get."
   ]
  },
  {
   "cell_type": "code",
   "execution_count": 2,
   "metadata": {
    "ExecuteTime": {
     "end_time": "2020-01-13T05:12:23.290648Z",
     "start_time": "2020-01-13T05:12:23.277650Z"
    }
   },
   "outputs": [
    {
     "data": {
      "text/plain": [
       "b'!DOCTYPE html>\\r\\n<!--[if lt IE 9]>\\r\\n<html class=\"no-js ie8 oldie\" lang=\"en\" xml:lang=\\'en\\'>\\r\\n<![endif]-->\\r\\n<!--[if gt IE 8]><!--><html class=\"no-js\" lang=\"en\" xml:lang=\\'en\\'><!--<![endif]-->\\r\\n<head>\\r\\n<title>USD to IDR exchange rate history</title>\\r\\n<meta http-equiv=\"X-UA-Compatible\" content=\"IE=edge\">\\r\\n<meta name=\"viewport\" content=\"width=device-width, initial-scale=1, maximum-scale=5\">\\r\\n<meta charset=\"utf-8\" /><meta http-equiv=\"Content-Type\" content=\"text/html; charset=utf-8\" />\\r\\n<base href=\"http'"
      ]
     },
     "execution_count": 2,
     "metadata": {},
     "output_type": "execute_result"
    }
   ],
   "source": [
    "url_get.content[1:500]"
   ]
  },
  {
   "cell_type": "markdown",
   "metadata": {},
   "source": [
    "As we can see we get a very unstructured and complex html, which actually contains the codes needed to show the webpages on your web browser. But we as human still confused what and where we can use that piece of code, so here where we use the beautifulsoup. Beautiful soup class will result a beautifulsoup object. Beautiful Soup transforms a complex HTML document into a complex tree of Python objects. \n",
    "\n",
    "Let's make Beautiful soup object and feel free to explore the object here."
   ]
  },
  {
   "cell_type": "code",
   "execution_count": 3,
   "metadata": {
    "ExecuteTime": {
     "end_time": "2020-01-13T05:12:23.808122Z",
     "start_time": "2020-01-13T05:12:23.292610Z"
    }
   },
   "outputs": [],
   "source": [
    "from bs4 import BeautifulSoup \n",
    "\n",
    "soup = BeautifulSoup(url_get.content,\"html.parser\")"
   ]
  },
  {
   "cell_type": "markdown",
   "metadata": {},
   "source": [
    "## Finding the right key to scrap the data & Extracting the right information"
   ]
  },
  {
   "cell_type": "markdown",
   "metadata": {},
   "source": [
    "Find the key and put the key into the `.find()` Put all the exploring the right key at this cell. (please change this markdown with your explanation)"
   ]
  },
  {
   "cell_type": "code",
   "execution_count": 5,
   "metadata": {
    "ExecuteTime": {
     "end_time": "2020-01-13T05:12:23.878904Z",
     "start_time": "2020-01-13T05:12:23.854974Z"
    }
   },
   "outputs": [
    {
     "name": "stdout",
     "output_type": "stream",
     "text": [
      "table border=\"0\" cellpadding=\"0\" cellspacing=\"0\" class=\"history-rates-data\">\n",
      " <thead>\n",
      "  <tr>\n",
      "   <th class=\"ltr-bidi-fix\">\n",
      "    Date\n",
      "   </th>\n",
      "   <th class=\"ltr-bidi-fix\">\n",
      "    US Dollar to Indonesian Rupiah\n",
      "   </th>\n",
      "  </tr>\n",
      " </thead>\n",
      " <tbody>\n",
      "  <tr>\n",
      "   <td>\n",
      "    <a class=\"w\" href=\"/exchange-rate-history/usd-idr-2023-08-31\">\n",
      "     August 31, 2023\n",
      "    </a>\n",
      "    <a class=\"n\" href=\"/exchange-rate-history/usd-idr-2023-08-31\">\n",
      "     2023-8-31\n",
      "    </a>\n",
      "   </td>\n",
      "   <td>\n",
      "    <span class=\"w\">\n",
      "     <span class=\"\n"
     ]
    }
   ],
   "source": [
    "table = soup.find('table', attrs={'class':'history-rates-data'})\n",
    "print(table.prettify()[1:500])"
   ]
  },
  {
   "cell_type": "markdown",
   "metadata": {},
   "source": [
    "Finding row length."
   ]
  },
  {
   "cell_type": "code",
   "execution_count": 7,
   "metadata": {},
   "outputs": [],
   "source": [
    "tbody = table.find('tbody')\n",
    "tr = tbody.find_all('tr')\n",
    "row_length = len(tr)"
   ]
  },
  {
   "cell_type": "code",
   "execution_count": 8,
   "metadata": {},
   "outputs": [
    {
     "data": {
      "text/plain": [
       "132"
      ]
     },
     "execution_count": 8,
     "metadata": {},
     "output_type": "execute_result"
    }
   ],
   "source": [
    "row_length"
   ]
  },
  {
   "cell_type": "markdown",
   "metadata": {},
   "source": [
    "Do the scrapping process here (please change this markdown with your explanation)"
   ]
  },
  {
   "cell_type": "code",
   "execution_count": 20,
   "metadata": {
    "ExecuteTime": {
     "end_time": "2020-01-13T05:12:24.008256Z",
     "start_time": "2020-01-13T05:12:23.980358Z"
    }
   },
   "outputs": [
    {
     "name": "stdout",
     "output_type": "stream",
     "text": [
      "2023-8-31\n",
      "$1 = Rp15,225\n",
      "2023-8-30\n",
      "$1 = Rp15,223\n",
      "2023-8-29\n",
      "$1 = Rp15,202\n",
      "2023-8-28\n",
      "$1 = Rp15,248\n",
      "2023-8-25\n",
      "$1 = Rp15,298\n",
      "2023-8-24\n",
      "$1 = Rp15,246\n",
      "2023-8-23\n",
      "$1 = Rp15,301\n",
      "2023-8-22\n",
      "$1 = Rp15,324\n",
      "2023-8-21\n",
      "$1 = Rp15,325\n",
      "2023-8-18\n",
      "$1 = Rp15,321\n",
      "2023-8-17\n",
      "$1 = Rp15,343\n",
      "2023-8-16\n",
      "$1 = Rp15,369\n",
      "2023-8-15\n",
      "$1 = Rp15,318\n",
      "2023-8-14\n",
      "$1 = Rp15,330\n",
      "2023-8-11\n",
      "$1 = Rp15,324\n",
      "2023-8-10\n",
      "$1 = Rp15,263\n",
      "2023-8-9\n",
      "$1 = Rp15,214\n",
      "2023-8-8\n",
      "$1 = Rp15,212\n",
      "2023-8-7\n",
      "$1 = Rp15,225\n",
      "2023-8-4\n",
      "$1 = Rp15,153\n",
      "2023-8-3\n",
      "$1 = Rp15,148\n",
      "2023-8-2\n",
      "$1 = Rp15,227\n",
      "2023-8-1\n",
      "$1 = Rp15,121\n",
      "2023-7-31\n",
      "$1 = Rp15,099\n",
      "2023-7-28\n",
      "$1 = Rp15,107\n",
      "2023-7-27\n",
      "$1 = Rp15,102\n",
      "2023-7-26\n",
      "$1 = Rp15,009\n",
      "2023-7-25\n",
      "$1 = Rp15,027\n",
      "2023-7-24\n",
      "$1 = Rp15,022\n",
      "2023-7-21\n",
      "$1 = Rp15,043\n",
      "2023-7-20\n",
      "$1 = Rp15,056\n",
      "2023-7-19\n",
      "$1 = Rp15,009\n",
      "2023-7-18\n",
      "$1 = Rp14,989\n",
      "2023-7-17\n",
      "$1 = Rp14,972\n",
      "2023-7-14\n",
      "$1 = Rp15,003\n",
      "2023-7-13\n",
      "$1 = Rp14,954\n",
      "2023-7-12\n",
      "$1 = Rp14,935\n",
      "2023-7-11\n",
      "$1 = Rp15,140\n",
      "2023-7-10\n",
      "$1 = Rp15,187\n",
      "2023-7-7\n",
      "$1 = Rp15,162\n",
      "2023-7-6\n",
      "$1 = Rp15,178\n",
      "2023-7-5\n",
      "$1 = Rp15,078\n",
      "2023-7-4\n",
      "$1 = Rp15,020\n",
      "2023-7-3\n",
      "$1 = Rp15,063\n",
      "2023-6-30\n",
      "$1 = Rp15,040\n",
      "2023-6-29\n",
      "$1 = Rp15,059\n",
      "2023-6-28\n",
      "$1 = Rp14,985\n",
      "2023-6-27\n",
      "$1 = Rp14,988\n",
      "2023-6-26\n",
      "$1 = Rp15,045\n",
      "2023-6-23\n",
      "$1 = Rp15,045\n",
      "2023-6-22\n",
      "$1 = Rp14,939\n",
      "2023-6-21\n",
      "$1 = Rp14,945\n",
      "2023-6-20\n",
      "$1 = Rp15,015\n",
      "2023-6-19\n",
      "$1 = Rp15,014\n",
      "2023-6-16\n",
      "$1 = Rp14,961\n",
      "2023-6-15\n",
      "$1 = Rp14,903\n",
      "2023-6-14\n",
      "$1 = Rp14,907\n",
      "2023-6-13\n",
      "$1 = Rp14,870\n",
      "2023-6-12\n",
      "$1 = Rp14,872\n",
      "2023-6-9\n",
      "$1 = Rp14,889\n",
      "2023-6-8\n",
      "$1 = Rp14,842\n",
      "2023-6-7\n",
      "$1 = Rp14,889\n",
      "2023-6-6\n",
      "$1 = Rp14,871\n",
      "2023-6-5\n",
      "$1 = Rp14,855\n",
      "2023-6-2\n",
      "$1 = Rp14,902\n",
      "2023-6-1\n",
      "$1 = Rp14,907\n",
      "2023-5-31\n",
      "$1 = Rp14,991\n",
      "2023-5-30\n",
      "$1 = Rp14,983\n",
      "2023-5-29\n",
      "$1 = Rp14,964\n",
      "2023-5-26\n",
      "$1 = Rp15,008\n",
      "2023-5-25\n",
      "$1 = Rp14,968\n",
      "2023-5-24\n",
      "$1 = Rp14,943\n",
      "2023-5-23\n",
      "$1 = Rp14,904\n",
      "2023-5-22\n",
      "$1 = Rp14,893\n",
      "2023-5-19\n",
      "$1 = Rp14,936\n",
      "2023-5-18\n",
      "$1 = Rp14,923\n",
      "2023-5-17\n",
      "$1 = Rp14,853\n",
      "2023-5-16\n",
      "$1 = Rp14,877\n",
      "2023-5-15\n",
      "$1 = Rp14,789\n",
      "2023-5-12\n",
      "$1 = Rp14,844\n",
      "2023-5-11\n",
      "$1 = Rp14,776\n",
      "2023-5-10\n",
      "$1 = Rp14,698\n",
      "2023-5-9\n",
      "$1 = Rp14,776\n",
      "2023-5-8\n",
      "$1 = Rp14,744\n",
      "2023-5-5\n",
      "$1 = Rp14,675\n",
      "2023-5-4\n",
      "$1 = Rp14,699\n",
      "2023-5-3\n",
      "$1 = Rp14,680\n",
      "2023-5-2\n",
      "$1 = Rp14,747\n",
      "2023-5-1\n",
      "$1 = Rp14,677\n",
      "2023-4-28\n",
      "$1 = Rp14,674\n",
      "2023-4-27\n",
      "$1 = Rp14,691\n",
      "2023-4-26\n",
      "$1 = Rp14,841\n",
      "2023-4-25\n",
      "$1 = Rp14,940\n",
      "2023-4-24\n",
      "$1 = Rp14,934\n",
      "2023-4-21\n",
      "$1 = Rp14,936\n",
      "2023-4-20\n",
      "$1 = Rp14,954\n",
      "2023-4-19\n",
      "$1 = Rp14,995\n",
      "2023-4-18\n",
      "$1 = Rp14,889\n",
      "2023-4-17\n",
      "$1 = Rp14,850\n",
      "2023-4-14\n",
      "$1 = Rp14,782\n",
      "2023-4-13\n",
      "$1 = Rp14,722\n",
      "2023-4-12\n",
      "$1 = Rp14,835\n",
      "2023-4-11\n",
      "$1 = Rp14,915\n",
      "2023-4-10\n",
      "$1 = Rp14,950\n",
      "2023-4-7\n",
      "$1 = Rp14,941\n",
      "2023-4-6\n",
      "$1 = Rp14,931\n",
      "2023-4-5\n",
      "$1 = Rp14,960\n",
      "2023-4-4\n",
      "$1 = Rp14,957\n",
      "2023-4-3\n",
      "$1 = Rp14,922\n",
      "2023-3-31\n",
      "$1 = Rp14,969\n",
      "2023-3-30\n",
      "$1 = Rp15,024\n",
      "2023-3-29\n",
      "$1 = Rp15,034\n",
      "2023-3-28\n",
      "$1 = Rp15,060\n",
      "2023-3-27\n",
      "$1 = Rp15,107\n",
      "2023-3-24\n",
      "$1 = Rp15,165\n",
      "2023-3-23\n",
      "$1 = Rp15,085\n",
      "2023-3-22\n",
      "$1 = Rp15,253\n",
      "2023-3-21\n",
      "$1 = Rp15,301\n",
      "2023-3-20\n",
      "$1 = Rp15,343\n",
      "2023-3-17\n",
      "$1 = Rp15,375\n",
      "2023-3-16\n",
      "$1 = Rp15,429\n",
      "2023-3-15\n",
      "$1 = Rp15,459\n",
      "2023-3-14\n",
      "$1 = Rp15,380\n",
      "2023-3-13\n",
      "$1 = Rp15,416\n",
      "2023-3-10\n",
      "$1 = Rp15,503\n",
      "2023-3-9\n",
      "$1 = Rp15,495\n",
      "2023-3-8\n",
      "$1 = Rp15,449\n",
      "2023-3-7\n",
      "$1 = Rp15,429\n",
      "2023-3-6\n",
      "$1 = Rp15,354\n"
     ]
    },
    {
     "data": {
      "text/plain": [
       "[('2023-8-31', '$1 = Rp15,225'),\n",
       " ('2023-8-30', '$1 = Rp15,223'),\n",
       " ('2023-8-29', '$1 = Rp15,202'),\n",
       " ('2023-8-28', '$1 = Rp15,248'),\n",
       " ('2023-8-25', '$1 = Rp15,298'),\n",
       " ('2023-8-24', '$1 = Rp15,246'),\n",
       " ('2023-8-23', '$1 = Rp15,301'),\n",
       " ('2023-8-22', '$1 = Rp15,324'),\n",
       " ('2023-8-21', '$1 = Rp15,325'),\n",
       " ('2023-8-18', '$1 = Rp15,321'),\n",
       " ('2023-8-17', '$1 = Rp15,343'),\n",
       " ('2023-8-16', '$1 = Rp15,369'),\n",
       " ('2023-8-15', '$1 = Rp15,318'),\n",
       " ('2023-8-14', '$1 = Rp15,330'),\n",
       " ('2023-8-11', '$1 = Rp15,324'),\n",
       " ('2023-8-10', '$1 = Rp15,263'),\n",
       " ('2023-8-9', '$1 = Rp15,214'),\n",
       " ('2023-8-8', '$1 = Rp15,212'),\n",
       " ('2023-8-7', '$1 = Rp15,225'),\n",
       " ('2023-8-4', '$1 = Rp15,153'),\n",
       " ('2023-8-3', '$1 = Rp15,148'),\n",
       " ('2023-8-2', '$1 = Rp15,227'),\n",
       " ('2023-8-1', '$1 = Rp15,121'),\n",
       " ('2023-7-31', '$1 = Rp15,099'),\n",
       " ('2023-7-28', '$1 = Rp15,107'),\n",
       " ('2023-7-27', '$1 = Rp15,102'),\n",
       " ('2023-7-26', '$1 = Rp15,009'),\n",
       " ('2023-7-25', '$1 = Rp15,027'),\n",
       " ('2023-7-24', '$1 = Rp15,022'),\n",
       " ('2023-7-21', '$1 = Rp15,043'),\n",
       " ('2023-7-20', '$1 = Rp15,056'),\n",
       " ('2023-7-19', '$1 = Rp15,009'),\n",
       " ('2023-7-18', '$1 = Rp14,989'),\n",
       " ('2023-7-17', '$1 = Rp14,972'),\n",
       " ('2023-7-14', '$1 = Rp15,003'),\n",
       " ('2023-7-13', '$1 = Rp14,954'),\n",
       " ('2023-7-12', '$1 = Rp14,935'),\n",
       " ('2023-7-11', '$1 = Rp15,140'),\n",
       " ('2023-7-10', '$1 = Rp15,187'),\n",
       " ('2023-7-7', '$1 = Rp15,162'),\n",
       " ('2023-7-6', '$1 = Rp15,178'),\n",
       " ('2023-7-5', '$1 = Rp15,078'),\n",
       " ('2023-7-4', '$1 = Rp15,020'),\n",
       " ('2023-7-3', '$1 = Rp15,063'),\n",
       " ('2023-6-30', '$1 = Rp15,040'),\n",
       " ('2023-6-29', '$1 = Rp15,059'),\n",
       " ('2023-6-28', '$1 = Rp14,985'),\n",
       " ('2023-6-27', '$1 = Rp14,988'),\n",
       " ('2023-6-26', '$1 = Rp15,045'),\n",
       " ('2023-6-23', '$1 = Rp15,045'),\n",
       " ('2023-6-22', '$1 = Rp14,939'),\n",
       " ('2023-6-21', '$1 = Rp14,945'),\n",
       " ('2023-6-20', '$1 = Rp15,015'),\n",
       " ('2023-6-19', '$1 = Rp15,014'),\n",
       " ('2023-6-16', '$1 = Rp14,961'),\n",
       " ('2023-6-15', '$1 = Rp14,903'),\n",
       " ('2023-6-14', '$1 = Rp14,907'),\n",
       " ('2023-6-13', '$1 = Rp14,870'),\n",
       " ('2023-6-12', '$1 = Rp14,872'),\n",
       " ('2023-6-9', '$1 = Rp14,889'),\n",
       " ('2023-6-8', '$1 = Rp14,842'),\n",
       " ('2023-6-7', '$1 = Rp14,889'),\n",
       " ('2023-6-6', '$1 = Rp14,871'),\n",
       " ('2023-6-5', '$1 = Rp14,855'),\n",
       " ('2023-6-2', '$1 = Rp14,902'),\n",
       " ('2023-6-1', '$1 = Rp14,907'),\n",
       " ('2023-5-31', '$1 = Rp14,991'),\n",
       " ('2023-5-30', '$1 = Rp14,983'),\n",
       " ('2023-5-29', '$1 = Rp14,964'),\n",
       " ('2023-5-26', '$1 = Rp15,008'),\n",
       " ('2023-5-25', '$1 = Rp14,968'),\n",
       " ('2023-5-24', '$1 = Rp14,943'),\n",
       " ('2023-5-23', '$1 = Rp14,904'),\n",
       " ('2023-5-22', '$1 = Rp14,893'),\n",
       " ('2023-5-19', '$1 = Rp14,936'),\n",
       " ('2023-5-18', '$1 = Rp14,923'),\n",
       " ('2023-5-17', '$1 = Rp14,853'),\n",
       " ('2023-5-16', '$1 = Rp14,877'),\n",
       " ('2023-5-15', '$1 = Rp14,789'),\n",
       " ('2023-5-12', '$1 = Rp14,844'),\n",
       " ('2023-5-11', '$1 = Rp14,776'),\n",
       " ('2023-5-10', '$1 = Rp14,698'),\n",
       " ('2023-5-9', '$1 = Rp14,776'),\n",
       " ('2023-5-8', '$1 = Rp14,744'),\n",
       " ('2023-5-5', '$1 = Rp14,675'),\n",
       " ('2023-5-4', '$1 = Rp14,699'),\n",
       " ('2023-5-3', '$1 = Rp14,680'),\n",
       " ('2023-5-2', '$1 = Rp14,747'),\n",
       " ('2023-5-1', '$1 = Rp14,677'),\n",
       " ('2023-4-28', '$1 = Rp14,674'),\n",
       " ('2023-4-27', '$1 = Rp14,691'),\n",
       " ('2023-4-26', '$1 = Rp14,841'),\n",
       " ('2023-4-25', '$1 = Rp14,940'),\n",
       " ('2023-4-24', '$1 = Rp14,934'),\n",
       " ('2023-4-21', '$1 = Rp14,936'),\n",
       " ('2023-4-20', '$1 = Rp14,954'),\n",
       " ('2023-4-19', '$1 = Rp14,995'),\n",
       " ('2023-4-18', '$1 = Rp14,889'),\n",
       " ('2023-4-17', '$1 = Rp14,850'),\n",
       " ('2023-4-14', '$1 = Rp14,782'),\n",
       " ('2023-4-13', '$1 = Rp14,722'),\n",
       " ('2023-4-12', '$1 = Rp14,835'),\n",
       " ('2023-4-11', '$1 = Rp14,915'),\n",
       " ('2023-4-10', '$1 = Rp14,950'),\n",
       " ('2023-4-7', '$1 = Rp14,941'),\n",
       " ('2023-4-6', '$1 = Rp14,931'),\n",
       " ('2023-4-5', '$1 = Rp14,960'),\n",
       " ('2023-4-4', '$1 = Rp14,957'),\n",
       " ('2023-4-3', '$1 = Rp14,922'),\n",
       " ('2023-3-31', '$1 = Rp14,969'),\n",
       " ('2023-3-30', '$1 = Rp15,024'),\n",
       " ('2023-3-29', '$1 = Rp15,034'),\n",
       " ('2023-3-28', '$1 = Rp15,060'),\n",
       " ('2023-3-27', '$1 = Rp15,107'),\n",
       " ('2023-3-24', '$1 = Rp15,165'),\n",
       " ('2023-3-23', '$1 = Rp15,085'),\n",
       " ('2023-3-22', '$1 = Rp15,253'),\n",
       " ('2023-3-21', '$1 = Rp15,301'),\n",
       " ('2023-3-20', '$1 = Rp15,343'),\n",
       " ('2023-3-17', '$1 = Rp15,375'),\n",
       " ('2023-3-16', '$1 = Rp15,429'),\n",
       " ('2023-3-15', '$1 = Rp15,459'),\n",
       " ('2023-3-14', '$1 = Rp15,380'),\n",
       " ('2023-3-13', '$1 = Rp15,416'),\n",
       " ('2023-3-10', '$1 = Rp15,503'),\n",
       " ('2023-3-9', '$1 = Rp15,495'),\n",
       " ('2023-3-8', '$1 = Rp15,449'),\n",
       " ('2023-3-7', '$1 = Rp15,429'),\n",
       " ('2023-3-6', '$1 = Rp15,354')]"
      ]
     },
     "execution_count": 20,
     "metadata": {},
     "output_type": "execute_result"
    }
   ],
   "source": [
    "temp = [] #init\n",
    "\n",
    "for i in range(row_length):\n",
    "\n",
    "    #scrapping process\n",
    "    period = tr[i].find_all('td')\n",
    "    if len(period) >= 2:\n",
    "        td1 = period[0]\n",
    "        td2 = period[1]\n",
    "        text_td1 = td1.find_all('a')[1].text\n",
    "        text_td2 = td2.find_all('span')[0].text\n",
    "        print(text_td1)\n",
    "        print(text_td2)\n",
    "\n",
    "        temp.append((text_td1, text_td2))\n",
    "    \n",
    "temp "
   ]
  },
  {
   "cell_type": "code",
   "execution_count": 11,
   "metadata": {},
   "outputs": [
    {
     "data": {
      "text/plain": [
       "[]"
      ]
     },
     "execution_count": 11,
     "metadata": {},
     "output_type": "execute_result"
    }
   ],
   "source": []
  },
  {
   "cell_type": "code",
   "execution_count": 21,
   "metadata": {},
   "outputs": [
    {
     "data": {
      "text/plain": [
       "[('2023-3-6', '$1 = Rp15,354'),\n",
       " ('2023-3-7', '$1 = Rp15,429'),\n",
       " ('2023-3-8', '$1 = Rp15,449'),\n",
       " ('2023-3-9', '$1 = Rp15,495'),\n",
       " ('2023-3-10', '$1 = Rp15,503'),\n",
       " ('2023-3-13', '$1 = Rp15,416'),\n",
       " ('2023-3-14', '$1 = Rp15,380'),\n",
       " ('2023-3-15', '$1 = Rp15,459'),\n",
       " ('2023-3-16', '$1 = Rp15,429'),\n",
       " ('2023-3-17', '$1 = Rp15,375'),\n",
       " ('2023-3-20', '$1 = Rp15,343'),\n",
       " ('2023-3-21', '$1 = Rp15,301'),\n",
       " ('2023-3-22', '$1 = Rp15,253'),\n",
       " ('2023-3-23', '$1 = Rp15,085'),\n",
       " ('2023-3-24', '$1 = Rp15,165'),\n",
       " ('2023-3-27', '$1 = Rp15,107'),\n",
       " ('2023-3-28', '$1 = Rp15,060'),\n",
       " ('2023-3-29', '$1 = Rp15,034'),\n",
       " ('2023-3-30', '$1 = Rp15,024'),\n",
       " ('2023-3-31', '$1 = Rp14,969'),\n",
       " ('2023-4-3', '$1 = Rp14,922'),\n",
       " ('2023-4-4', '$1 = Rp14,957'),\n",
       " ('2023-4-5', '$1 = Rp14,960'),\n",
       " ('2023-4-6', '$1 = Rp14,931'),\n",
       " ('2023-4-7', '$1 = Rp14,941'),\n",
       " ('2023-4-10', '$1 = Rp14,950'),\n",
       " ('2023-4-11', '$1 = Rp14,915'),\n",
       " ('2023-4-12', '$1 = Rp14,835'),\n",
       " ('2023-4-13', '$1 = Rp14,722'),\n",
       " ('2023-4-14', '$1 = Rp14,782'),\n",
       " ('2023-4-17', '$1 = Rp14,850'),\n",
       " ('2023-4-18', '$1 = Rp14,889'),\n",
       " ('2023-4-19', '$1 = Rp14,995'),\n",
       " ('2023-4-20', '$1 = Rp14,954'),\n",
       " ('2023-4-21', '$1 = Rp14,936'),\n",
       " ('2023-4-24', '$1 = Rp14,934'),\n",
       " ('2023-4-25', '$1 = Rp14,940'),\n",
       " ('2023-4-26', '$1 = Rp14,841'),\n",
       " ('2023-4-27', '$1 = Rp14,691'),\n",
       " ('2023-4-28', '$1 = Rp14,674'),\n",
       " ('2023-5-1', '$1 = Rp14,677'),\n",
       " ('2023-5-2', '$1 = Rp14,747'),\n",
       " ('2023-5-3', '$1 = Rp14,680'),\n",
       " ('2023-5-4', '$1 = Rp14,699'),\n",
       " ('2023-5-5', '$1 = Rp14,675'),\n",
       " ('2023-5-8', '$1 = Rp14,744'),\n",
       " ('2023-5-9', '$1 = Rp14,776'),\n",
       " ('2023-5-10', '$1 = Rp14,698'),\n",
       " ('2023-5-11', '$1 = Rp14,776'),\n",
       " ('2023-5-12', '$1 = Rp14,844'),\n",
       " ('2023-5-15', '$1 = Rp14,789'),\n",
       " ('2023-5-16', '$1 = Rp14,877'),\n",
       " ('2023-5-17', '$1 = Rp14,853'),\n",
       " ('2023-5-18', '$1 = Rp14,923'),\n",
       " ('2023-5-19', '$1 = Rp14,936'),\n",
       " ('2023-5-22', '$1 = Rp14,893'),\n",
       " ('2023-5-23', '$1 = Rp14,904'),\n",
       " ('2023-5-24', '$1 = Rp14,943'),\n",
       " ('2023-5-25', '$1 = Rp14,968'),\n",
       " ('2023-5-26', '$1 = Rp15,008'),\n",
       " ('2023-5-29', '$1 = Rp14,964'),\n",
       " ('2023-5-30', '$1 = Rp14,983'),\n",
       " ('2023-5-31', '$1 = Rp14,991'),\n",
       " ('2023-6-1', '$1 = Rp14,907'),\n",
       " ('2023-6-2', '$1 = Rp14,902'),\n",
       " ('2023-6-5', '$1 = Rp14,855'),\n",
       " ('2023-6-6', '$1 = Rp14,871'),\n",
       " ('2023-6-7', '$1 = Rp14,889'),\n",
       " ('2023-6-8', '$1 = Rp14,842'),\n",
       " ('2023-6-9', '$1 = Rp14,889'),\n",
       " ('2023-6-12', '$1 = Rp14,872'),\n",
       " ('2023-6-13', '$1 = Rp14,870'),\n",
       " ('2023-6-14', '$1 = Rp14,907'),\n",
       " ('2023-6-15', '$1 = Rp14,903'),\n",
       " ('2023-6-16', '$1 = Rp14,961'),\n",
       " ('2023-6-19', '$1 = Rp15,014'),\n",
       " ('2023-6-20', '$1 = Rp15,015'),\n",
       " ('2023-6-21', '$1 = Rp14,945'),\n",
       " ('2023-6-22', '$1 = Rp14,939'),\n",
       " ('2023-6-23', '$1 = Rp15,045'),\n",
       " ('2023-6-26', '$1 = Rp15,045'),\n",
       " ('2023-6-27', '$1 = Rp14,988'),\n",
       " ('2023-6-28', '$1 = Rp14,985'),\n",
       " ('2023-6-29', '$1 = Rp15,059'),\n",
       " ('2023-6-30', '$1 = Rp15,040'),\n",
       " ('2023-7-3', '$1 = Rp15,063'),\n",
       " ('2023-7-4', '$1 = Rp15,020'),\n",
       " ('2023-7-5', '$1 = Rp15,078'),\n",
       " ('2023-7-6', '$1 = Rp15,178'),\n",
       " ('2023-7-7', '$1 = Rp15,162'),\n",
       " ('2023-7-10', '$1 = Rp15,187'),\n",
       " ('2023-7-11', '$1 = Rp15,140'),\n",
       " ('2023-7-12', '$1 = Rp14,935'),\n",
       " ('2023-7-13', '$1 = Rp14,954'),\n",
       " ('2023-7-14', '$1 = Rp15,003'),\n",
       " ('2023-7-17', '$1 = Rp14,972'),\n",
       " ('2023-7-18', '$1 = Rp14,989'),\n",
       " ('2023-7-19', '$1 = Rp15,009'),\n",
       " ('2023-7-20', '$1 = Rp15,056'),\n",
       " ('2023-7-21', '$1 = Rp15,043'),\n",
       " ('2023-7-24', '$1 = Rp15,022'),\n",
       " ('2023-7-25', '$1 = Rp15,027'),\n",
       " ('2023-7-26', '$1 = Rp15,009'),\n",
       " ('2023-7-27', '$1 = Rp15,102'),\n",
       " ('2023-7-28', '$1 = Rp15,107'),\n",
       " ('2023-7-31', '$1 = Rp15,099'),\n",
       " ('2023-8-1', '$1 = Rp15,121'),\n",
       " ('2023-8-2', '$1 = Rp15,227'),\n",
       " ('2023-8-3', '$1 = Rp15,148'),\n",
       " ('2023-8-4', '$1 = Rp15,153'),\n",
       " ('2023-8-7', '$1 = Rp15,225'),\n",
       " ('2023-8-8', '$1 = Rp15,212'),\n",
       " ('2023-8-9', '$1 = Rp15,214'),\n",
       " ('2023-8-10', '$1 = Rp15,263'),\n",
       " ('2023-8-11', '$1 = Rp15,324'),\n",
       " ('2023-8-14', '$1 = Rp15,330'),\n",
       " ('2023-8-15', '$1 = Rp15,318'),\n",
       " ('2023-8-16', '$1 = Rp15,369'),\n",
       " ('2023-8-17', '$1 = Rp15,343'),\n",
       " ('2023-8-18', '$1 = Rp15,321'),\n",
       " ('2023-8-21', '$1 = Rp15,325'),\n",
       " ('2023-8-22', '$1 = Rp15,324'),\n",
       " ('2023-8-23', '$1 = Rp15,301'),\n",
       " ('2023-8-24', '$1 = Rp15,246'),\n",
       " ('2023-8-25', '$1 = Rp15,298'),\n",
       " ('2023-8-28', '$1 = Rp15,248'),\n",
       " ('2023-8-29', '$1 = Rp15,202'),\n",
       " ('2023-8-30', '$1 = Rp15,223'),\n",
       " ('2023-8-31', '$1 = Rp15,225')]"
      ]
     },
     "execution_count": 21,
     "metadata": {},
     "output_type": "execute_result"
    }
   ],
   "source": [
    "temp = temp[::-1]\n",
    "temp\n"
   ]
  },
  {
   "cell_type": "markdown",
   "metadata": {},
   "source": [
    "## Creating data frame & Data wrangling"
   ]
  },
  {
   "cell_type": "markdown",
   "metadata": {},
   "source": [
    "Put the array into dataframe"
   ]
  },
  {
   "cell_type": "code",
   "execution_count": 25,
   "metadata": {
    "ExecuteTime": {
     "end_time": "2020-01-13T05:12:41.517372Z",
     "start_time": "2020-01-13T05:12:29.130015Z"
    }
   },
   "outputs": [
    {
     "data": {
      "text/html": [
       "<div>\n",
       "<style scoped>\n",
       "    .dataframe tbody tr th:only-of-type {\n",
       "        vertical-align: middle;\n",
       "    }\n",
       "\n",
       "    .dataframe tbody tr th {\n",
       "        vertical-align: top;\n",
       "    }\n",
       "\n",
       "    .dataframe thead th {\n",
       "        text-align: right;\n",
       "    }\n",
       "</style>\n",
       "<table border=\"1\" class=\"dataframe\">\n",
       "  <thead>\n",
       "    <tr style=\"text-align: right;\">\n",
       "      <th></th>\n",
       "      <th>date</th>\n",
       "      <th>currency</th>\n",
       "    </tr>\n",
       "  </thead>\n",
       "  <tbody>\n",
       "    <tr>\n",
       "      <th>0</th>\n",
       "      <td>2023-3-6</td>\n",
       "      <td>$1 = Rp15,354</td>\n",
       "    </tr>\n",
       "    <tr>\n",
       "      <th>1</th>\n",
       "      <td>2023-3-7</td>\n",
       "      <td>$1 = Rp15,429</td>\n",
       "    </tr>\n",
       "    <tr>\n",
       "      <th>2</th>\n",
       "      <td>2023-3-8</td>\n",
       "      <td>$1 = Rp15,449</td>\n",
       "    </tr>\n",
       "    <tr>\n",
       "      <th>3</th>\n",
       "      <td>2023-3-9</td>\n",
       "      <td>$1 = Rp15,495</td>\n",
       "    </tr>\n",
       "    <tr>\n",
       "      <th>4</th>\n",
       "      <td>2023-3-10</td>\n",
       "      <td>$1 = Rp15,503</td>\n",
       "    </tr>\n",
       "  </tbody>\n",
       "</table>\n",
       "</div>"
      ],
      "text/plain": [
       "        date       currency\n",
       "0   2023-3-6  $1 = Rp15,354\n",
       "1   2023-3-7  $1 = Rp15,429\n",
       "2   2023-3-8  $1 = Rp15,449\n",
       "3   2023-3-9  $1 = Rp15,495\n",
       "4  2023-3-10  $1 = Rp15,503"
      ]
     },
     "execution_count": 25,
     "metadata": {},
     "output_type": "execute_result"
    }
   ],
   "source": [
    "import pandas as pd\n",
    "\n",
    "df = pd.DataFrame(temp, columns = ('date', 'currency'))\n",
    "df.head()"
   ]
  },
  {
   "cell_type": "code",
   "execution_count": 26,
   "metadata": {},
   "outputs": [
    {
     "data": {
      "text/plain": [
       "date        object\n",
       "currency    object\n",
       "dtype: object"
      ]
     },
     "execution_count": 26,
     "metadata": {},
     "output_type": "execute_result"
    }
   ],
   "source": [
    "df.dtypes"
   ]
  },
  {
   "cell_type": "markdown",
   "metadata": {},
   "source": [
    "Do the data cleaning here (please change this markdown with your explanation of what you do for data wrangling)"
   ]
  },
  {
   "cell_type": "code",
   "execution_count": 30,
   "metadata": {
    "ExecuteTime": {
     "end_time": "2020-01-13T05:12:59.165559Z",
     "start_time": "2020-01-13T05:12:58.910012Z"
    }
   },
   "outputs": [
    {
     "data": {
      "text/html": [
       "<div>\n",
       "<style scoped>\n",
       "    .dataframe tbody tr th:only-of-type {\n",
       "        vertical-align: middle;\n",
       "    }\n",
       "\n",
       "    .dataframe tbody tr th {\n",
       "        vertical-align: top;\n",
       "    }\n",
       "\n",
       "    .dataframe thead th {\n",
       "        text-align: right;\n",
       "    }\n",
       "</style>\n",
       "<table border=\"1\" class=\"dataframe\">\n",
       "  <thead>\n",
       "    <tr style=\"text-align: right;\">\n",
       "      <th></th>\n",
       "      <th>date</th>\n",
       "      <th>currency</th>\n",
       "    </tr>\n",
       "  </thead>\n",
       "  <tbody>\n",
       "    <tr>\n",
       "      <th>0</th>\n",
       "      <td>2023-3-6</td>\n",
       "      <td>$1 = Rp15,354</td>\n",
       "    </tr>\n",
       "    <tr>\n",
       "      <th>1</th>\n",
       "      <td>2023-3-7</td>\n",
       "      <td>$1 = Rp15,429</td>\n",
       "    </tr>\n",
       "    <tr>\n",
       "      <th>2</th>\n",
       "      <td>2023-3-8</td>\n",
       "      <td>$1 = Rp15,449</td>\n",
       "    </tr>\n",
       "    <tr>\n",
       "      <th>3</th>\n",
       "      <td>2023-3-9</td>\n",
       "      <td>$1 = Rp15,495</td>\n",
       "    </tr>\n",
       "    <tr>\n",
       "      <th>4</th>\n",
       "      <td>2023-3-10</td>\n",
       "      <td>$1 = Rp15,503</td>\n",
       "    </tr>\n",
       "  </tbody>\n",
       "</table>\n",
       "</div>"
      ],
      "text/plain": [
       "        date       currency\n",
       "0   2023-3-6  $1 = Rp15,354\n",
       "1   2023-3-7  $1 = Rp15,429\n",
       "2   2023-3-8  $1 = Rp15,449\n",
       "3   2023-3-9  $1 = Rp15,495\n",
       "4  2023-3-10  $1 = Rp15,503"
      ]
     },
     "execution_count": 30,
     "metadata": {},
     "output_type": "execute_result"
    }
   ],
   "source": [
    "df = pd.DataFrame(temp, columns = ('date', 'currency'))\n",
    "df.head()"
   ]
  },
  {
   "cell_type": "markdown",
   "metadata": {},
   "source": [
    "Data visualisation (please change this markdown with your explanation of what you do for data wrangling)"
   ]
  },
  {
   "cell_type": "code",
   "execution_count": 32,
   "metadata": {},
   "outputs": [
    {
     "data": {
      "text/plain": [
       "date         object\n",
       "currency    float64\n",
       "dtype: object"
      ]
     },
     "execution_count": 32,
     "metadata": {},
     "output_type": "execute_result"
    }
   ],
   "source": [
    "df['currency'] = df['currency'].str.replace(\"$1 = Rp\",\"\", regex=False)\n",
    "df['currency'] = df['currency'].str.replace(\",\",\"\")\n",
    "df['currency'] = df['currency'].astype(\"float64\")\n",
    "\n",
    "df.dtypes"
   ]
  },
  {
   "cell_type": "code",
   "execution_count": 34,
   "metadata": {},
   "outputs": [],
   "source": [
    "df = df.set_index('date')"
   ]
  },
  {
   "cell_type": "markdown",
   "metadata": {},
   "source": [
    "### Implementing your webscrapping to the flask dashboard\n",
    "\n",
    "- Copy paste all of your web scrapping process to the desired position on the `app.py`\n",
    "- Changing the title of the dasboard at `index.html`"
   ]
  },
  {
   "cell_type": "markdown",
   "metadata": {},
   "source": [
    "## Finishing This Notebook with Your Analysis and Conclusion\n",
    "\n",
    "First you can do start with making the data visualisation. "
   ]
  },
  {
   "cell_type": "code",
   "execution_count": 35,
   "metadata": {
    "ExecuteTime": {
     "end_time": "2020-01-13T05:20:56.208237Z",
     "start_time": "2020-01-13T05:20:56.076043Z"
    }
   },
   "outputs": [
    {
     "data": {
      "text/plain": [
       "<Axes: xlabel='date'>"
      ]
     },
     "execution_count": 35,
     "metadata": {},
     "output_type": "execute_result"
    },
    {
     "data": {
      "image/png": "[encoded data removed]",
      "text/plain": [
       "<Figure size 640x480 with 1 Axes>"
      ]
     },
     "metadata": {},
     "output_type": "display_data"
    }
   ],
   "source": [
    "df.plot()"
   ]
  },
  {
   "cell_type": "markdown",
   "metadata": {},
   "source": [
    "\n",
    "(Put your analysis and conclusion here.)"
   ]
  },
  {
   "cell_type": "markdown",
   "metadata": {},
   "source": [
    "### Implement it at the webapps\n",
    "\n",
    "- You can create additional analysis from the data.\n",
    "- Implement it to the dashboard with at `app.py` dan `index.html`."
   ]
  }
 ],
 "metadata": {
  "kernelspec": {
   "display_name": "Python 3 (ipykernel)",
   "language": "python",
   "name": "python3"
  },
  "language_info": {
   "codemirror_mode": {
    "name": "ipython",
    "version": 3
   },
   "file_extension": ".py",
   "mimetype": "text/x-python",
   "name": "python",
   "nbconvert_exporter": "python",
   "pygments_lexer": "ipython3",
   "version": "3.11.3"
  }
 },
 "nbformat": 4,
 "nbformat_minor": 2
}
